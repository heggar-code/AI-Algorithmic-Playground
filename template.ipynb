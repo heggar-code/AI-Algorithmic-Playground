{
 "cells": [
  {
   "cell_type": "markdown",
   "id": "50c7c594",
   "metadata": {},
   "source": [
    "# Análisis Exploratorio de Datos (EDA) en Google Colab\n",
    "\n",
    "Este notebook está diseñado para guiarte a través de un análisis exploratorio de datos completo, desde la comprensión inicial de los datos hasta la extracción de insights y generación de hipótesis. Utilizaremos bibliotecas populares como **Pandas**, **NumPy**, **Matplotlib**, **Seaborn** y **Scikit-learn**."
   ]
  },
  {
   "cell_type": "markdown",
   "id": "fa93b20e",
   "metadata": {},
   "source": [
    "## **Índice**\n",
    "\n",
    "1. [Configuración del Entorno](#1)\n",
    "2. [EDA Level 0 — Comprensión de los Datos Originales](#2)\n",
    "   - 2.1 [Carga de Datos](#2.1)\n",
    "   - 2.2 [Inspección Inicial](#2.2)\n",
    "   - 2.3 [Visualizaciones Básicas](#2.3)\n",
    "3. [EDA Level 1 — Transformación de los Datos Originales](#3)\n",
    "   - 3.1 [Limpieza de Datos](#3.1)\n",
    "   - 3.2 [Manejo de Valores Atípicos (Outliers)](#3.2)\n",
    "   - 3.3 [Transformaciones y Normalización](#3.3)\n",
    "   - 3.4 [Ingeniería de Características](#3.4)\n",
    "4. [EDA Level 2 — Comprensión de los Datos Transformados](#4)\n",
    "   - 4.1 [Análisis Estadístico Descriptivo](#4.1)\n",
    "   - 4.2 [Análisis Bivariado y Multivariado](#4.2)\n",
    "   - 4.3 [Visualizaciones Avanzadas](#4.3)\n",
    "5. [EDA Level 3 — Selección de Características y Reducción de Dimensionalidad](#5)\n",
    "   - 5.1 [Selección de Características](#5.1)\n",
    "   - 5.2 [Análisis de Componentes Principales (PCA)](#5.2)\n",
    "6. [EDA Level 4 — Insights y Generación de Hipótesis](#6)\n",
    "   - 6.1 [Identificación de Patrones Clave](#6.1)\n",
    "   - 6.2 [Generación de Hipótesis](#6.2)\n",
    "7. [Conclusiones](#7)"
   ]
  },
  {
   "cell_type": "markdown",
   "id": "b945af30",
   "metadata": {},
   "source": [
    "<a id=\"1\"></a>\n",
    "## 1. Configuración del Entorno\n",
    "\n",
    "Importamos las bibliotecas necesarias y configuramos el entorno para nuestro análisis."
   ]
  },
  {
   "cell_type": "code",
   "execution_count": null,
   "id": "0d9a9a9d",
   "metadata": {},
   "outputs": [],
   "source": [
    "# Importar bibliotecas básicas\n",
    "import numpy as np\n",
    "import pandas as pd\n",
    "\n",
    "# Para visualización\n",
    "import matplotlib.pyplot as plt\n",
    "import seaborn as sns\n",
    "%matplotlib inline\n",
    "\n",
    "# Configuraciones adicionales\n",
    "plt.style.use('ggplot')\n",
    "sns.set(style=\"whitegrid\")"
   ]
  },
  {
   "cell_type": "markdown",
   "id": "259f0efc",
   "metadata": {},
   "source": [
    "<a id=\"2\"></a>\n",
    "## 2. EDA Level 0 — Comprensión de los Datos Originales\n",
    "\n",
    "### Objetivos:\n",
    "- Cargar los datos en bruto.\n",
    "- Entender el tamaño, tipos de datos, valores nulos y duplicados.\n",
    "- Visualizaciones básicas de la estructura de los datos."
   ]
  },
  {
   "cell_type": "markdown",
   "id": "c982f3ec",
   "metadata": {},
   "source": [
    "<a id=\"2.1\"></a>\n",
    "### 2.1 Carga de Datos\n",
    "\n",
    "Importamos los datos desde una fuente (por ejemplo, un archivo CSV)."
   ]
  },
  {
   "cell_type": "code",
   "execution_count": null,
   "id": "b6ba86fe",
   "metadata": {},
   "outputs": [],
   "source": [
    "# Cargar datos desde un archivo CSV\n",
    "df = pd.read_csv('ruta/al/archivo.csv')\n",
    "\n",
    "# Verificar si los datos se cargaron correctamente\n",
    "df.head()"
   ]
  },
  {
   "cell_type": "markdown",
   "id": "45cfac51",
   "metadata": {},
   "source": [
    "<a id=\"2.2\"></a>\n",
    "### 2.2 Inspección Inicial\n",
    "\n",
    "Analizamos la estructura básica del dataset."
   ]
  },
  {
   "cell_type": "code",
   "execution_count": null,
   "id": "b4ec512e",
   "metadata": {},
   "outputs": [],
   "source": [
    "# Dimensiones del dataset\n",
    "print(\"Dimensiones del dataset:\", df.shape)\n",
    "\n",
    "# Información sobre los tipos de datos\n",
    "df.info()\n",
    "\n",
    "# Estadísticas descriptivas básicas\n",
    "df.describe()"
   ]
  },
  {
   "cell_type": "markdown",
   "id": "aa78468e",
   "metadata": {},
   "source": [
    "- **Valores nulos**"
   ]
  },
  {
   "cell_type": "code",
   "execution_count": null,
   "id": "4e7e3a70",
   "metadata": {},
   "outputs": [],
   "source": [
    "# Comprobar valores nulos\n",
    "df.isnull().sum()"
   ]
  },
  {
   "cell_type": "markdown",
   "id": "f2c3834e",
   "metadata": {},
   "source": [
    "- **Duplicados**"
   ]
  },
  {
   "cell_type": "code",
   "execution_count": null,
   "id": "69ce0dfe",
   "metadata": {},
   "outputs": [],
   "source": [
    "# Contar duplicados\n",
    "print(\"Número de filas duplicadas:\", df.duplicated().sum())"
   ]
  },
  {
   "cell_type": "markdown",
   "id": "86ccf6f3",
   "metadata": {},
   "source": [
    "<a id=\"2.3\"></a>\n",
    "### 2.3 Visualizaciones Básicas\n",
    "\n",
    "- **Distribución de variables numéricas**"
   ]
  },
  {
   "cell_type": "code",
   "execution_count": null,
   "id": "e1d5e81a",
   "metadata": {},
   "outputs": [],
   "source": [
    "# Histograma de una variable numérica\n",
    "plt.figure(figsize=(10,6))\n",
    "sns.histplot(df['variable_numerica'], kde=True)\n",
    "plt.title('Distribución de Variable Numérica')\n",
    "plt.show()"
   ]
  },
  {
   "cell_type": "markdown",
   "id": "55ecb4ae",
   "metadata": {},
   "source": [
    "- **Conteo de variables categóricas**"
   ]
  },
  {
   "cell_type": "code",
   "execution_count": null,
   "id": "57659883",
   "metadata": {},
   "outputs": [],
   "source": [
    "# Gráfico de barras para una variable categórica\n",
    "plt.figure(figsize=(10,6))\n",
    "sns.countplot(x='variable_categorica', data=df)\n",
    "plt.title('Distribución de Variable Categórica')\n",
    "plt.show()"
   ]
  },
  {
   "cell_type": "markdown",
   "id": "39bd9290",
   "metadata": {},
   "source": [
    "<a id=\"3\"></a>\n",
    "## 3. EDA Level 1 — Transformación de los Datos Originales\n",
    "\n",
    "### Objetivos:\n",
    "- Limpieza de datos y manejo de outliers.\n",
    "- Transformaciones necesarias (escalado, normalización, imputación de valores faltantes).\n",
    "- Aplicación de ingeniería de características."
   ]
  },
  {
   "cell_type": "markdown",
   "id": "48ce60ae",
   "metadata": {},
   "source": [
    "<a id=\"3.1\"></a>\n",
    "### 3.1 Limpieza de Datos\n",
    "\n",
    "- **Manejo de valores nulos**"
   ]
  },
  {
   "cell_type": "code",
   "execution_count": null,
   "id": "01d69c58",
   "metadata": {},
   "outputs": [],
   "source": [
    "# Imputación de valores nulos con la media\n",
    "df['variable_numerica'].fillna(df['variable_numerica'].mean(), inplace=True)\n",
    "\n",
    "# Eliminación de filas con valores nulos\n",
    "df.dropna(subset=['otra_variable'], inplace=True)"
   ]
  },
  {
   "cell_type": "markdown",
   "id": "c3a9b50a",
   "metadata": {},
   "source": [
    "- **Eliminación de duplicados**"
   ]
  },
  {
   "cell_type": "code",
   "execution_count": null,
   "id": "3e6f85b3",
   "metadata": {},
   "outputs": [],
   "source": [
    "# Eliminar filas duplicadas\n",
    "df.drop_duplicates(inplace=True)"
   ]
  },
  {
   "cell_type": "markdown",
   "id": "6e23bdc5",
   "metadata": {},
   "source": [
    "<a id=\"3.2\"></a>\n",
    "### 3.2 Manejo de Valores Atípicos (Outliers)\n",
    "\n",
    "- **Detección de outliers usando boxplots**"
   ]
  },
  {
   "cell_type": "code",
   "execution_count": null,
   "id": "2a1cde5d",
   "metadata": {},
   "outputs": [],
   "source": [
    "plt.figure(figsize=(10,6))\n",
    "sns.boxplot(x=df['variable_numerica'])\n",
    "plt.title('Boxplot de Variable Numérica')\n",
    "plt.show()"
   ]
  },
  {
   "cell_type": "markdown",
   "id": "1b2b81d3",
   "metadata": {},
   "source": [
    "- **Eliminación de outliers**"
   ]
  },
  {
   "cell_type": "code",
   "execution_count": null,
   "id": "fb49e8d0",
   "metadata": {},
   "outputs": [],
   "source": [
    "# Definir límites usando el rango intercuartílico (IQR)\n",
    "Q1 = df['variable_numerica'].quantile(0.25)\n",
    "Q3 = df['variable_numerica'].quantile(0.75)\n",
    "IQR = Q3 - Q1\n",
    "\n",
    "# Filtrar outliers\n",
    "df = df[~((df['variable_numerica'] < (Q1 - 1.5 * IQR)) | (df['variable_numerica'] > (Q3 + 1.5 * IQR)))]"
   ]
  },
  {
   "cell_type": "markdown",
   "id": "532826af",
   "metadata": {},
   "source": [
    "<a id=\"3.3\"></a>\n",
    "### 3.3 Transformaciones y Normalización\n",
    "\n",
    "- **Escalado**"
   ]
  },
  {
   "cell_type": "code",
   "execution_count": null,
   "id": "fa16c6f4",
   "metadata": {},
   "outputs": [],
   "source": [
    "from sklearn.preprocessing import MinMaxScaler\n",
    "\n",
    "scaler = MinMaxScaler()\n",
    "df['variable_escalada'] = scaler.fit_transform(df[['variable_numerica']])"
   ]
  },
  {
   "cell_type": "markdown",
   "id": "636c0bb8",
   "metadata": {},
   "source": [
    "- **Normalización**"
   ]
  },
  {
   "cell_type": "code",
   "execution_count": null,
   "id": "2e86b110",
   "metadata": {},
   "outputs": [],
   "source": [
    "from sklearn.preprocessing import StandardScaler\n",
    "\n",
    "scaler = StandardScaler()\n",
    "df['variable_normalizada'] = scaler.fit_transform(df[['variable_numerica']])"
   ]
  },
  {
   "cell_type": "markdown",
   "id": "d0df27f5",
   "metadata": {},
   "source": [
    "<a id=\"3.4\"></a>\n",
    "### 3.4 Ingeniería de Características\n",
    "\n",
    "- **Codificación categórica (One-Hot Encoding)**"
   ]
  },
  {
   "cell_type": "code",
   "execution_count": null,
   "id": "9c46b3d2",
   "metadata": {},
   "outputs": [],
   "source": [
    "df = pd.get_dummies(df, columns=['variable_categorica'])"
   ]
  },
  {
   "cell_type": "markdown",
   "id": "f3880c47",
   "metadata": {},
   "source": [
    "- **Creación de nuevas características**"
   ]
  },
  {
   "cell_type": "code",
   "execution_count": null,
   "id": "0a9307a0",
   "metadata": {},
   "outputs": [],
   "source": [
    "# Interacción de variables\n",
    "df['nueva_variable'] = df['variable1'] * df['variable2']\n",
    "\n",
    "# Transformación logarítmica\n",
    "df['variable_log'] = np.log(df['variable_numerica'] + 1)"
   ]
  },
  {
   "cell_type": "markdown",
   "id": "a118f115",
   "metadata": {},
   "source": [
    "<a id=\"4\"></a>\n",
    "## 4. EDA Level 2 — Comprensión de los Datos Transformados\n",
    "\n",
    "### Objetivos:\n",
    "- Análisis descriptivo y estadístico post-transformación.\n",
    "- Correlaciones y análisis multivariante.\n",
    "- Visualizaciones avanzadas."
   ]
  },
  {
   "cell_type": "markdown",
   "id": "765897d1",
   "metadata": {},
   "source": [
    "<a id=\"4.1\"></a>\n",
    "### 4.1 Análisis Estadístico Descriptivo"
   ]
  },
  {
   "cell_type": "code",
   "execution_count": null,
   "id": "8ba2ce76",
   "metadata": {},
   "outputs": [],
   "source": [
    "# Estadísticas descriptivas\n",
    "df.describe()"
   ]
  },
  {
   "cell_type": "markdown",
   "id": "f6d8d847",
   "metadata": {},
   "source": [
    "- **Distribución de variables transformadas**"
   ]
  },
  {
   "cell_type": "code",
   "execution_count": null,
   "id": "6093dbbe",
   "metadata": {},
   "outputs": [],
   "source": [
    "plt.figure(figsize=(10,6))\n",
    "sns.histplot(df['variable_normalizada'], kde=True)\n",
    "plt.title('Distribución de Variable Normalizada')\n",
    "plt.show()"
   ]
  },
  {
   "cell_type": "markdown",
   "id": "2beac5cd",
   "metadata": {},
   "source": [
    "<a id=\"4.2\"></a>\n",
    "### 4.2 Análisis Bivariado y Multivariado\n",
    "\n",
    "- **Matriz de correlación**"
   ]
  },
  {
   "cell_type": "code",
   "execution_count": null,
   "id": "d00dd5ac",
   "metadata": {},
   "outputs": [],
   "source": [
    "plt.figure(figsize=(12,10))\n",
    "correlacion = df.corr()\n",
    "sns.heatmap(correlacion, annot=True, cmap='coolwarm')\n",
    "plt.title('Matriz de Correlación')\n",
    "plt.show()"
   ]
  },
  {
   "cell_type": "markdown",
   "id": "94f2dfbb",
   "metadata": {},
   "source": [
    "- **Gráfico de dispersión**"
   ]
  },
  {
   "cell_type": "code",
   "execution_count": null,
   "id": "ea8bba0c",
   "metadata": {},
   "outputs": [],
   "source": [
    "plt.figure(figsize=(10,6))\n",
    "sns.scatterplot(x='variable1', y='variable2', data=df)\n",
    "plt.title('Relación entre Variable1 y Variable2')\n",
    "plt.show()"
   ]
  },
  {
   "cell_type": "markdown",
   "id": "5e54b8d4",
   "metadata": {},
   "source": [
    "<a id=\"4.3\"></a>\n",
    "### 4.3 Visualizaciones Avanzadas\n",
    "\n",
    "- **Pairplot de Seaborn**"
   ]
  },
  {
   "cell_type": "code",
   "execution_count": null,
   "id": "68d17a19",
   "metadata": {},
   "outputs": [],
   "source": [
    "sns.pairplot(df[['variable1', 'variable2', 'variable3']])\n",
    "plt.show()"
   ]
  },
  {
   "cell_type": "markdown",
   "id": "333f3c27",
   "metadata": {},
   "source": [
    "- **Gráficos de distribución conjunta**"
   ]
  },
  {
   "cell_type": "code",
   "execution_count": null,
   "id": "54a42082",
   "metadata": {},
   "outputs": [],
   "source": [
    "sns.jointplot(x='variable1', y='variable2', data=df, kind='hex')\n",
    "plt.show()"
   ]
  },
  {
   "cell_type": "markdown",
   "id": "de1b4cc7",
   "metadata": {},
   "source": [
    "<a id=\"5\"></a>\n",
    "## 5. EDA Level 3 — Selección de Características y Reducción de Dimensionalidad\n",
    "\n",
    "### Objetivos:\n",
    "- Seleccionar características clave.\n",
    "- Aplicar técnicas de reducción de dimensionalidad como PCA."
   ]
  },
  {
   "cell_type": "markdown",
   "id": "bc0eaa62",
   "metadata": {},
   "source": [
    "<a id=\"5.1\"></a>\n",
    "### 5.1 Selección de Características\n",
    "\n",
    "- **Importancia de características usando Random Forest**"
   ]
  },
  {
   "cell_type": "code",
   "execution_count": null,
   "id": "f2f920d7",
   "metadata": {},
   "outputs": [],
   "source": [
    "from sklearn.ensemble import RandomForestRegressor\n",
    "\n",
    "# Suponiendo que 'target' es la variable objetivo\n",
    "X = df.drop('target', axis=1)\n",
    "y = df['target']\n",
    "\n",
    "model = RandomForestRegressor()\n",
    "model.fit(X, y)\n",
    "\n",
    "importancias = pd.Series(model.feature_importances_, index=X.columns)\n",
    "importancias.nlargest(10).plot(kind='barh')\n",
    "plt.title('Importancia de Características')\n",
    "plt.show()"
   ]
  },
  {
   "cell_type": "markdown",
   "id": "8443e6e5",
   "metadata": {},
   "source": [
    "<a id=\"5.2\"></a>\n",
    "### 5.2 Análisis de Componentes Principales (PCA)"
   ]
  },
  {
   "cell_type": "code",
   "execution_count": null,
   "id": "a71f0cc7",
   "metadata": {},
   "outputs": [],
   "source": [
    "from sklearn.decomposition import PCA\n",
    "\n",
    "# Estandarizar los datos\n",
    "from sklearn.preprocessing import StandardScaler\n",
    "scaler = StandardScaler()\n",
    "X_scaled = scaler.fit_transform(X)\n",
    "\n",
    "# Aplicar PCA\n",
    "pca = PCA(n_components=2)\n",
    "principal_components = pca.fit_transform(X_scaled)\n",
    "\n",
    "# Crear un dataframe con los componentes principales\n",
    "df_pca = pd.DataFrame(data=principal_components, columns=['PC1', 'PC2'])\n",
    "\n",
    "# Visualizar los componentes principales\n",
    "plt.figure(figsize=(10,6))\n",
    "sns.scatterplot(x='PC1', y='PC2', data=df_pca)\n",
    "plt.title('PCA de las Variables')\n",
    "plt.show()"
   ]
  },
  {
   "cell_type": "markdown",
   "id": "524bced1",
   "metadata": {},
   "source": [
    "<a id=\"6\"></a>\n",
    "## 6. EDA Level 4 — Insights y Generación de Hipótesis\n",
    "\n",
    "### Objetivos:\n",
    "- Identificar patrones clave en los datos.\n",
    "- Generar hipótesis y extraer conclusiones accionables."
   ]
  },
  {
   "cell_type": "markdown",
   "id": "b3b37b55",
   "metadata": {},
   "source": [
    "<a id=\"6.1\"></a>\n",
    "### 6.1 Identificación de Patrones Clave\n",
    "\n",
    "- **Análisis de segmentación**"
   ]
  },
  {
   "cell_type": "code",
   "execution_count": null,
   "id": "cf79cfc3",
   "metadata": {},
   "outputs": [],
   "source": [
    "# Segmentación usando KMeans\n",
    "from sklearn.cluster import KMeans\n",
    "\n",
    "kmeans = KMeans(n_clusters=3)\n",
    "kmeans.fit(X_scaled)\n",
    "df['cluster'] = kmeans.labels_\n",
    "\n",
    "# Visualizar los clusters\n",
    "plt.figure(figsize=(10,6))\n",
    "sns.scatterplot(x='PC1', y='PC2', hue='cluster', data=df_pca.join(df['cluster']))\n",
    "plt.title('Clusters Identificados')\n",
    "plt.show()"
   ]
  },
  {
   "cell_type": "markdown",
   "id": "30a59fb9",
   "metadata": {},
   "source": [
    "<a id=\"6.2\"></a>\n",
    "### 6.2 Generación de Hipótesis\n",
    "\n",
    "- Basado en los análisis anteriores, podemos formular hipótesis como:\n",
    "  - **Hipótesis 1:** La variable 'X' tiene una influencia significativa en el target debido a su alta correlación.\n",
    "  - **Hipótesis 2:** Los clientes en el cluster 0 tienen un mayor valor promedio de compra."
   ]
  },
  {
   "cell_type": "markdown",
   "id": "c2f15bf7",
   "metadata": {},
   "source": [
    "<a id=\"7\"></a>\n",
    "## 7. Conclusiones\n",
    "\n",
    "- **Resumen de hallazgos:**\n",
    "  - Se identificaron variables con alta correlación con la variable objetivo.\n",
    "  - La aplicación de PCA redujo la dimensionalidad manteniendo la mayoría de la varianza.\n",
    "  - Se descubrieron clusters significativos que podrían usarse para segmentación de mercado.\n",
    "\n",
    "- **Próximos pasos:**\n",
    "  - Validar las hipótesis mediante modelado predictivo.\n",
    "  - Implementar estrategias basadas en los insights obtenidos.\n",
    "\n",
    "---\n",
    "\n",
    "**Nota:** Este análisis sirve como guía general. Dependiendo del dataset específico, se deben ajustar las variables y los métodos utilizados. Siempre es importante comprender el contexto de los datos para interpretar correctamente los resultados."
   ]
  }
 ],
 "metadata": {
  "kernelspec": {
   "display_name": "Python 3",
   "language": "python",
   "name": "python3"
  },
  "language_info": {
   "codemirror_mode": {
    "name": "ipython",
    "version": 3
   },
   "file_extension": ".py",
   "mimetype": "text/x-python",
   "name": "python",
   "nbconvert_exporter": "python",
   "pygments_lexer": "ipython3",
   "version": "3.8.10"
  }
 },
 "nbformat": 4,
 "nbformat_minor": 5
}
